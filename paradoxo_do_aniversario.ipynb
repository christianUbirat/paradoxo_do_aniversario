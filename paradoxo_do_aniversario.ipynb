{
  "nbformat": 4,
  "nbformat_minor": 0,
  "metadata": {
    "colab": {
      "name": "paradoxo_do_aniversario.ipynb",
      "provenance": [],
      "authorship_tag": "ABX9TyO4WPgHXMYyaKQhfWdoIc/G",
      "include_colab_link": true
    },
    "kernelspec": {
      "name": "python3",
      "display_name": "Python 3"
    }
  },
  "cells": [
    {
      "cell_type": "markdown",
      "metadata": {
        "id": "view-in-github",
        "colab_type": "text"
      },
      "source": [
        "<a href=\"https://colab.research.google.com/github/christianUbirat/paradoxo_do_aniversario/blob/main/paradoxo_do_aniversario.ipynb\" target=\"_parent\"><img src=\"https://colab.research.google.com/assets/colab-badge.svg\" alt=\"Open In Colab\"/></a>"
      ]
    },
    {
      "cell_type": "markdown",
      "metadata": {
        "id": "lwIY6UQ4PK5u"
      },
      "source": [
        "# **Paradoxo do aniversário**\n",
        "### **Dado um grupo de 23 pessoas escolhidas ao acaso, quais são as chances de duas terem a mesma data de aniversário?**\n",
        "\n",
        "\n",
        "\n",
        "### Resposta: >50%"
      ]
    },
    {
      "cell_type": "markdown",
      "metadata": {
        "id": "xCSkMvGADZ7F"
      },
      "source": [
        "### Para entender o resultado, é interessante pensar no caso complementar:\n",
        "## **Qual seria a probabilidade de todas possuírem aniversários diferentes?**\n",
        "### Pelo princípio das casas dos pombos, se analisarmos mais de 365 pessoas, **com certeza** pelo menos 2 terão o mesmo aniversário, então a probalidade seria 0.\n",
        "### Se a quantia n for menor que 365, temos que (para nenhuma nascer no mesmo dia) 1 pessoa apenas pode nascer em qualquer dia, a segunda pessoa adicionada pode nascer em qualquer dia, menos no mesmo que o da primeira, e assim sucessivamente:\n",
        "## p(n) = 1.(1-1/365).(1-2/365)...[1-(n-1)/365]=365.364...(365-n+1)/365^n=365!/365^n(365-n)!\n",
        "### Então, a nossa probabilidade é o complementar de p(n): 1 - p(n)\n",
        "### O gráfico abaixo mostra que para n=23 a probabilidade é aproximadamente 50.73%\n",
        "## A partir de 57 pessoas a probabilidade já é mair que **99%**!\n"
      ]
    },
    {
      "cell_type": "code",
      "metadata": {
        "colab": {
          "base_uri": "https://localhost:8080/",
          "height": 282
        },
        "id": "YxHDoZdCxM3c",
        "outputId": "1928bc09-095d-48c1-da16-bf3a09e13a2b"
      },
      "source": [
        "from functools import lru_cache\n",
        "from matplotlib import pyplot as plt\n",
        "@lru_cache()\n",
        "def aniversario(n):\n",
        "    p = (1.0/365)**n\n",
        "    for i in range((366-n),366):\n",
        "        p *= i\n",
        "    return 1-p\n",
        "print(\"Probabilidade para 23 pessoas: %.3f%%\"%(aniversario(23)*100)) \n",
        "\n",
        "plt.plot(range(1, 100), list(map(aniversario, range(1, 100))))\n",
        "plt.show() "
      ],
      "execution_count": null,
      "outputs": [
        {
          "output_type": "stream",
          "name": "stdout",
          "text": [
            "Probabilidade para 23 pessoas: 50.730%\n"
          ]
        },
        {
          "output_type": "display_data",
          "data": {
            "image/png": "[encoded data removed]",
            "text/plain": [
              "<Figure size 432x288 with 1 Axes>"
            ]
          },
          "metadata": {
            "needs_background": "light"
          }
        }
      ]
    },
    {
      "cell_type": "code",
      "metadata": {
        "id": "-MdUBcrEQQLR"
      },
      "source": [
        ""
      ],
      "execution_count": null,
      "outputs": []
    }
  ]
}